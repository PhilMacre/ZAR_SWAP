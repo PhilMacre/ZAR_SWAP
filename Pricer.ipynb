{
 "cells": [
  {
   "cell_type": "code",
   "execution_count": 1,
   "metadata": {},
   "outputs": [],
   "source": [
    "from PyQt6.QtWidgets import *\n",
    "from PyQt6.QtCore import *\n",
    "from PyQt6.QtGui import *\n",
    "import sys"
   ]
  },
  {
   "attachments": {},
   "cell_type": "markdown",
   "metadata": {},
   "source": [
    "### Classe tableau pour la construction de courbe (copy/paste enabled)"
   ]
  },
  {
   "cell_type": "code",
   "execution_count": 2,
   "metadata": {},
   "outputs": [],
   "source": [
    "class TableWidget(QTableWidget):\n",
    "\n",
    "    def __init__(self, rows =26 , columns = 2, parent=None): #default size is without jibar\n",
    "        super().__init__(rows, columns)\n",
    "        \n",
    "\n",
    "        self.setHorizontalHeaderLabels([\"Product\",\"Price\"])\n",
    " \n",
    "\n",
    "    def keyPressEvent(self, event):  # copy paste in table\n",
    "        if event.key() == Qt.Key.Key_V and (event.modifiers() & Qt.KeyboardModifier.ControlModifier):\n",
    "            selection = self.selectedIndexes()\n",
    "            if selection:\n",
    "                row_anchor = selection[0].row()\n",
    "                column_anchor = selection[0].column()\n",
    "                clipboard = QApplication.clipboard()\n",
    "\n",
    "                rows = clipboard.text().split('\\n')\n",
    "                for indx_row, row in enumerate(rows):\n",
    "                    values = row.split('\\t')\n",
    "                    for indx_col, value in enumerate(values):\n",
    "                        item = QTableWidgetItem(value)\n",
    "                        self.setItem(row_anchor + indx_row, column_anchor + indx_col, item)\n",
    "            super().keyPressEvent(event)"
   ]
  },
  {
   "cell_type": "code",
   "execution_count": 3,
   "metadata": {},
   "outputs": [],
   "source": [
    "class PayFreqbox(QComboBox):\n",
    "    def __init__(self ):\n",
    "        super(PayFreqbox,self).__init__()\n",
    "        \n",
    "        \n",
    "        self.addItems([\"Once\",\"Annual\",\"SemiAnnual\",\"EveryFourthMonth\",\"Quarterly\",\"Bimonthly\",\n",
    "                       \"Monthly\",\"Weekly\",\"Daily\"])\n",
    "        self.setEditable(False)\n",
    "        self.currentIndexChanged.connect(self.selectionchange)\n",
    "        \n",
    "    def selectionchange(self,i):\n",
    "        print(self.currentText())\n",
    "\n",
    "        "
   ]
  },
  {
   "attachments": {},
   "cell_type": "markdown",
   "metadata": {},
   "source": [
    "### Combo box pour la convention BADDAys"
   ]
  },
  {
   "cell_type": "code",
   "execution_count": 4,
   "metadata": {},
   "outputs": [],
   "source": [
    "class BusAdjbox(QComboBox):\n",
    "    def __init__(self ):\n",
    "        super(BusAdjbox,self).__init__()\n",
    "        \n",
    "        \n",
    "        self.addItems([\"Following\",\"Modified Following\",\"Preceding\", \"Modified Preceding\", \"Unadjusted\"])\n",
    "        self.setEditable(False)\n",
    "        self.currentIndexChanged.connect(self.selectionchange)\n",
    "        #self.setLayout(QHBoxLayout())\n",
    "    def selectionchange(self,i):\n",
    "        print(self.currentText())\n",
    "\n",
    "        "
   ]
  },
  {
   "attachments": {},
   "cell_type": "markdown",
   "metadata": {},
   "source": [
    "### Combo box pour la convention comptage de j"
   ]
  },
  {
   "cell_type": "code",
   "execution_count": 5,
   "metadata": {},
   "outputs": [],
   "source": [
    "class DCountbox(QComboBox):\n",
    "    def __init__(self ):\n",
    "        super(DCountbox,self).__init__()\n",
    "\n",
    "        \n",
    "        self.addItems([\"SimpleDayCounter\", \"Thirty360 30/360 \",\n",
    "                            \"Actual/360\", \"Actual/365(Fixed)\",\n",
    "                           \"Actuel/Actual\", \"Business / 252\"\n",
    "                           ])\n",
    "        self.setEditable(False)\n",
    "        self.currentIndexChanged.connect(self.selectionchange)\n",
    "        self.setLayout(QHBoxLayout())\n",
    "\n",
    "\n",
    "    def selectionchange(self,i):\n",
    "        print(self.currentText())\n",
    "\n",
    "        "
   ]
  },
  {
   "cell_type": "code",
   "execution_count": 6,
   "metadata": {},
   "outputs": [],
   "source": [
    "class Maturity(QHBoxLayout):       \n",
    "        def __init__(self):\n",
    "                super(Maturity,self).__init__()\n",
    "                interval=QLineEdit()\n",
    "                interval.setFixedWidth(30)\n",
    "                self.addWidget(interval)\n",
    "                self.addWidget(QDateEdit())\n",
    "        \n",
    "\n",
    "\n"
   ]
  },
  {
   "cell_type": "code",
   "execution_count": 7,
   "metadata": {},
   "outputs": [],
   "source": [
    "class MainLayout(QGridLayout):\n",
    "            \n",
    "     def __init__(self):\n",
    "\n",
    "        super(MainLayout,self).__init__()   \n",
    "        # General Parameters\n",
    "        self.addWidget(QLabel(\"Calendar\") ,0,0 )\n",
    "        self.addWidget(QLabel(\"South Africa\") ,0,1 )\n",
    "        self.addWidget(QLabel(\"Fixing Days\") ,1,0 )\n",
    "        self.addWidget(QSpinBox() ,1,1 )\n",
    "        self.addWidget(QLabel(\"Settlement Date\") ,2,0 )\n",
    "        self.addWidget(QDateEdit(QDate.currentDate()) ,2,1 )\n",
    "        self.addWidget(QLabel(\"EOM\") ,3,0 )\n",
    "        self.addWidget(QCheckBox() ,3,1 )\n",
    "\n",
    "        lab = QLabel()\n",
    "        pixmap = QPixmap('flag.png')\n",
    "        lab.resize(pixmap.width(),pixmap.height())\n",
    "        lab.setPixmap(pixmap)\n",
    "\n",
    "        self.addWidget(lab,0,3,2,2)\n",
    "\n",
    "        update_curve_button = QPushButton(\"Curve Construction\")\n",
    "        update_curve_button.setSizePolicy(QSizePolicy.Policy.Expanding,QSizePolicy.Policy.Expanding)\n",
    "        self.addWidget(update_curve_button,2,3,2,2)\n",
    "\n",
    "\n",
    "        self.addWidget(QLabel(\"Nominal\") ,7,1,alignment= Qt.AlignmentFlag(4) )\n",
    "        self.addWidget(QSpinBox() ,7,3 )\n",
    "\n",
    "\n",
    "        #Fixed leg parameters\n",
    "\n",
    "\n",
    "        self.addWidget(QLabel(\"Fixed\") ,5,0 , alignment= Qt.AlignmentFlag(2) )\n",
    "        self.addWidget(QLabel(\"Leg\") ,5,1 )\n",
    "\n",
    "        self.addWidget(QLabel(\"Effective Date\") ,9,0 )\n",
    "        self.addWidget(QDateEdit() ,9,1)\n",
    "\n",
    "        self.addWidget(QLabel(\"Maturity (e.g.4Y,3M)\") ,10,0 )\n",
    "        self.addLayout(Maturity() ,10,1 )\n",
    "\n",
    "        self.addWidget(QLabel(\"Fixed Rate\") ,11,0 )\n",
    "        self.addWidget(QDoubleSpinBox() ,11,1 )\n",
    "\n",
    "        self.addWidget(QLabel(\"Payment Freq\") ,12,0 )\n",
    "        self.addWidget(PayFreqbox() ,12,1 )\n",
    "\n",
    "        self.addWidget(QLabel(\"Day Count\") ,13,0 )\n",
    "        self.addWidget(DCountbox() ,13,1 )\n",
    "\n",
    "        self.addWidget(QLabel(\"Bus adjustment\") ,14,0 )\n",
    "        self.addWidget(BusAdjbox() ,14,1 )\n",
    "        \n",
    "\n",
    "\n",
    "        #Floating leg parameter\n",
    "\n",
    "        self.addWidget(QLabel(\"Floating\") ,5,3 , alignment= Qt.AlignmentFlag(2) )\n",
    "        self.addWidget(QLabel(\"Leg\") ,5,4 )\n",
    "\n",
    "        self.addWidget(QLabel(\"Effective Date\") ,9,3 )\n",
    "        self.addWidget(QDateEdit() ,9,4)\n",
    "\n",
    "        self.addWidget(QLabel(\"Maturity (e.g. 4Y,3M)\") ,10,3)\n",
    "        self.addLayout(Maturity() ,10,4 )\n",
    "\n",
    "        self.addWidget(QLabel(\"Index\") ,11,3 )\n",
    "        self.addWidget(QLabel(\"3M-Jibar\") ,11,4)\n",
    "\n",
    "        self.addWidget(QLabel(\"Spread\") ,12,3 )\n",
    "        self.addWidget(QDoubleSpinBox() ,12,4 )\n",
    "\n",
    "        self.addWidget(QLabel(\"Last index fix\") ,13,3 )\n",
    "\n",
    "        self.addWidget(QDoubleSpinBox(),13,4)\n",
    "        # layout.addWidget(QLineEdit() ,13,4 )\n",
    "\n",
    "        self.addWidget(QLabel(\"Pmt Freq\") ,14,3)\n",
    "        self.addWidget(PayFreqbox() ,14,4 )\n",
    "\n",
    "        self.addWidget(QLabel(\"Day Count\") ,15,3)\n",
    "        self.addWidget(DCountbox() ,15,4 )\n",
    "\n",
    "        self.addWidget(QLabel(\"BusDay Adj\") ,16,3)\n",
    "        self.addWidget(BusAdjbox() ,16,4 )"
   ]
  },
  {
   "cell_type": "code",
   "execution_count": null,
   "metadata": {},
   "outputs": [],
   "source": [
    "class CurveWidget(QHBoxLayout):\n",
    "            \n",
    "     def __init__(self):\n",
    "\n",
    "        super(CurveWidget,self).__init__()  \n",
    "        self.addWidget(TableWidget())\n",
    "        self.addWidget() "
   ]
  },
  {
   "cell_type": "code",
   "execution_count": 8,
   "metadata": {},
   "outputs": [
    {
     "data": {
      "text/plain": [
       "0"
      ]
     },
     "execution_count": 8,
     "metadata": {},
     "output_type": "execute_result"
    }
   ],
   "source": [
    "class MainWindow(QMainWindow):\n",
    "\n",
    "    def __init__(self):\n",
    "        super(MainWindow, self).__init__()\n",
    "\n",
    "        self.setWindowTitle(\"ZAR Vanilla Swap Pricer\")\n",
    "        self.setFixedSize(QSize(500,520))\n",
    "\n",
    "        tabs = QTabWidget()\n",
    "        tabs.setTabPosition(QTabWidget.TabPosition.South)\n",
    "        tabs.setMovable(False)               \n",
    "\n",
    "        \n",
    "        mainwidget = QWidget()\n",
    "        mainwidget.setLayout(MainLayout())\n",
    "\n",
    "        curvewidget = QWidget()\n",
    "        curvewidget.setLayout(CurveWidget())\n",
    "\n",
    "\n",
    "        tabs.addTab(mainwidget, \"main\")\n",
    "        tabs.addTab(curvewidget, \"red\")\n",
    "        \n",
    "\n",
    "        self.setCentralWidget(tabs)\n",
    "\n",
    "        \n",
    "\n",
    "app = QApplication(sys.argv)\n",
    "\n",
    "window = MainWindow()\n",
    "window.show()\n",
    "\n",
    "app.exec()\n",
    "\n",
    "\n",
    "\n",
    "        "
   ]
  }
 ],
 "metadata": {
  "kernelspec": {
   "display_name": "Python 3",
   "language": "python",
   "name": "python3"
  },
  "language_info": {
   "codemirror_mode": {
    "name": "ipython",
    "version": 3
   },
   "file_extension": ".py",
   "mimetype": "text/x-python",
   "name": "python",
   "nbconvert_exporter": "python",
   "pygments_lexer": "ipython3",
   "version": "3.10.1"
  },
  "orig_nbformat": 4
 },
 "nbformat": 4,
 "nbformat_minor": 2
}
