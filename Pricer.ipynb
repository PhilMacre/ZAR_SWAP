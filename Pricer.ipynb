{
 "cells": [
  {
   "cell_type": "code",
   "execution_count": 1,
   "metadata": {},
   "outputs": [],
   "source": [
    "from PyQt6.QtWidgets import *\n",
    "from PyQt6.QtCore import *\n",
    "from PyQt6.QtGui import *\n",
    "import sys"
   ]
  },
  {
   "cell_type": "code",
   "execution_count": 2,
   "metadata": {},
   "outputs": [],
   "source": [
    "\n",
    "\n",
    "\n",
    "class BusAdjbox(QComboBox):\n",
    "    def __init__(self ):\n",
    "        super(BusAdjbox,self).__init__()\n",
    "        \n",
    "        \n",
    "        self.addItems([\"Following\",\"Modified Following\",\"Preceding\", \"Modified Preceding\", \"Unadjusted\"])\n",
    "        self.setEditable(False)\n",
    "        self.currentIndexChanged.connect(self.selectionchange)\n",
    "        #self.setLayout(QHBoxLayout())\n",
    "    def selectionchange(self,i):\n",
    "        print(self.currentText())\n",
    "\n",
    "        "
   ]
  },
  {
   "cell_type": "code",
   "execution_count": 3,
   "metadata": {},
   "outputs": [],
   "source": [
    "class DCountbox(QComboBox):\n",
    "    def __init__(self ):\n",
    "        super(DCountbox,self).__init__()\n",
    "\n",
    "        \n",
    "        self.addItems([\"SimpleDayCounter\", \"Thirty360 30/360 \",\n",
    "                            \"Actual/360\", \"Actual/365(Fixed)\",\n",
    "                           \"Actuel/Actual\", \"Business / 252\"\n",
    "                           ])\n",
    "        self.setEditable(False)\n",
    "        self.currentIndexChanged.connect(self.selectionchange)\n",
    "        self.setLayout(QHBoxLayout())\n",
    "\n",
    "\n",
    "    def selectionchange(self,i):\n",
    "        print(self.currentText())\n",
    "\n",
    "        "
   ]
  },
  {
   "cell_type": "code",
   "execution_count": 4,
   "metadata": {},
   "outputs": [
    {
     "name": "stdout",
     "output_type": "stream",
     "text": [
      "Modified Following\n",
      "Modified Preceding\n"
     ]
    },
    {
     "data": {
      "text/plain": [
       "0"
      ]
     },
     "execution_count": 4,
     "metadata": {},
     "output_type": "execute_result"
    }
   ],
   "source": [
    "from PyQt6.QtWidgets import *\n",
    "from PyQt6.QtCore import *\n",
    "from PyQt6.QtGui import *\n",
    "import sys\n",
    "\n",
    "\n",
    "\n",
    "class MainWindow(QMainWindow):\n",
    "\n",
    "    def __init__(self):\n",
    "        super(MainWindow, self).__init__()\n",
    "\n",
    "        self.setWindowTitle(\"ZAR Vanilla Swap Pricer\")\n",
    "        #self.setFixedSize(QSize(600,800))\n",
    "\n",
    "        layout = QGridLayout()\n",
    "        \n",
    "        # General Parameters\n",
    "        layout.addWidget(QLabel(\"Calendar\") ,0,0 )\n",
    "        layout.addWidget(QLabel(\"South Africa\") ,0,1 )\n",
    "        layout.addWidget(QLabel(\"Fixing Days\") ,1,0 )\n",
    "        layout.addWidget(QLabel(\"Input\") ,1,1 )\n",
    "        layout.addWidget(QLabel(\"Settlement Date\") ,2,0 )\n",
    "        layout.addWidget(QDateEdit() ,2,1 )\n",
    "        layout.addWidget(QLabel(\"EOM\") ,3,0 )\n",
    "        layout.addWidget(QCheckBox() ,3,1 )\n",
    "\n",
    "        update_curve_button = QPushButton(\"Curve Construction\")\n",
    "        update_curve_button.setSizePolicy(QSizePolicy.Policy.Expanding,QSizePolicy.Policy.Expanding)\n",
    "        layout.addWidget(update_curve_button,0,3,2,2)\n",
    "\n",
    "\n",
    "        layout.addWidget(QLabel(\"Nominal\") ,7,1,alignment= Qt.AlignmentFlag(4) )\n",
    "        layout.addWidget(QLCDNumber(4) ,7,3 )\n",
    "\n",
    "        layout.addWidget(QLabel(\"Fixed\") ,5,0 , alignment= Qt.AlignmentFlag(2) )\n",
    "        layout.addWidget(QLabel(\"Leg\") ,5,1 )\n",
    "        layout.addWidget(QLabel(\"Effective Date\") ,9,0 )\n",
    "        layout.addWidget(QDateEdit() ,9,1)\n",
    "        layout.addWidget(QLabel(\"Maturity\") ,10,0 )\n",
    "        layout.addWidget(QDateEdit() ,10,1 )\n",
    "        layout.addWidget(QLabel(\"Fixed Rate\") ,11,0 )\n",
    "        layout.addWidget(QLineEdit() ,11,1 )\n",
    "        layout.addWidget(QLabel(\"Payment Freq\") ,12,0 )\n",
    "        layout.addWidget(QComboBox() ,12,1 )\n",
    "        layout.addWidget(QLabel(\"Day Count\") ,13,0 )\n",
    "        layout.addWidget(DCountbox() ,13,1 )\n",
    "        layout.addWidget(QLabel(\"Bus adjustment\") ,14,0 )\n",
    "        layout.addWidget(BusAdjbox() ,14,1 )\n",
    "        \n",
    "\n",
    "        layout.addWidget(QLabel(\"Fixed\") ,5,3 , alignment= Qt.AlignmentFlag(2) )\n",
    "        layout.addWidget(QLabel(\"Leg\") ,5,4 )\n",
    "        layout.addWidget(QLabel(\"Effective Date\") ,9,3 )\n",
    "        layout.addWidget(QDateEdit() ,9,4)\n",
    "        layout.addWidget(QLabel(\"Maturity\") ,10,3)\n",
    "        layout.addWidget(QDateEdit() ,10,4 )\n",
    "        layout.addWidget(QLabel(\"Index\") ,11,3 )\n",
    "        layout.addWidget(QLabel(\"Input\") ,11,4)\n",
    "        layout.addWidget(QLabel(\"Spread\") ,12,3 )\n",
    "        layout.addWidget(QLineEdit() ,12,4 )\n",
    "        layout.addWidget(QLabel(\"Last index fix\") ,13,3 )\n",
    "        layout.addWidget(QLineEdit() ,13,4 )\n",
    "        layout.addWidget(QLabel(\"Pmt Freq\") ,14,3)\n",
    "        layout.addWidget(QComboBox() ,14,4 )\n",
    "        layout.addWidget(QLabel(\"Day Count\") ,15,3)\n",
    "        layout.addWidget(DCountbox() ,15,4 )\n",
    "        layout.addWidget(QLabel(\"BusDay Adj\") ,16,3)\n",
    "        layout.addWidget(BusAdjbox() ,16,4 )\n",
    "\n",
    "\n",
    "        \n",
    "\n",
    "\n",
    "        widget = QWidget()\n",
    "        widget.setLayout(layout)\n",
    "        self.setCentralWidget(widget)\n",
    "\n",
    "\n",
    "app = QApplication(sys.argv)\n",
    "\n",
    "window = MainWindow()\n",
    "window.show()\n",
    "\n",
    "app.exec()\n",
    "        "
   ]
  },
  {
   "cell_type": "code",
   "execution_count": 5,
   "metadata": {},
   "outputs": [
    {
     "name": "stdout",
     "output_type": "stream",
     "text": [
      "layout.addWidget(QLabel(\"Cal\") ,0,0 )\n",
      "layout.addWidget(QLabel(\"Cal\") ,0,0 )\n",
      "layout.addWidget(QLabel(\"Cal\") ,0,0 )\n",
      "layout.addWidget(QLabel(\"Cal\") ,0,0 )\n",
      "layout.addWidget(QLabel(\"Cal\") ,0,0 )\n",
      "layout.addWidget(QLabel(\"Cal\") ,0,0 )\n",
      "layout.addWidget(QLabel(\"Cal\") ,0,0 )\n",
      "layout.addWidget(QLabel(\"Cal\") ,0,0 )\n",
      "layout.addWidget(QLabel(\"Cal\") ,0,0 )\n",
      "layout.addWidget(QLabel(\"Cal\") ,0,0 )\n",
      "layout.addWidget(QLabel(\"Cal\") ,0,0 )\n",
      "layout.addWidget(QLabel(\"Cal\") ,0,0 )\n",
      "layout.addWidget(QLabel(\"Cal\") ,0,0 )\n",
      "layout.addWidget(QLabel(\"Cal\") ,0,0 )\n",
      "layout.addWidget(QLabel(\"Cal\") ,0,0 )\n",
      "layout.addWidget(QLabel(\"Cal\") ,0,0 )\n",
      "layout.addWidget(QLabel(\"Cal\") ,0,0 )\n",
      "layout.addWidget(QLabel(\"Cal\") ,0,0 )\n",
      "layout.addWidget(QLabel(\"Cal\") ,0,0 )\n",
      "layout.addWidget(QLabel(\"Cal\") ,0,0 )\n",
      "layout.addWidget(QLabel(\"Cal\") ,0,0 )\n",
      "layout.addWidget(QLabel(\"Cal\") ,0,0 )\n",
      "layout.addWidget(QLabel(\"Cal\") ,0,0 )\n",
      "layout.addWidget(QLabel(\"Cal\") ,0,0 )\n",
      "layout.addWidget(QLabel(\"Cal\") ,0,0 )\n",
      "layout.addWidget(QLabel(\"Cal\") ,0,0 )\n",
      "layout.addWidget(QLabel(\"Cal\") ,0,0 )\n",
      "layout.addWidget(QLabel(\"Cal\") ,0,0 )\n",
      "layout.addWidget(QLabel(\"Cal\") ,0,0 )\n",
      "layout.addWidget(QLabel(\"Cal\") ,0,0 )\n",
      "layout.addWidget(QLabel(\"Cal\") ,0,0 )\n",
      "layout.addWidget(QLabel(\"Cal\") ,0,0 )\n",
      "layout.addWidget(QLabel(\"Cal\") ,0,0 )\n",
      "layout.addWidget(QLabel(\"Cal\") ,0,0 )\n",
      "layout.addWidget(QLabel(\"Cal\") ,0,0 )\n",
      "layout.addWidget(QLabel(\"Cal\") ,0,0 )\n",
      "layout.addWidget(QLabel(\"Cal\") ,0,0 )\n",
      "layout.addWidget(QLabel(\"Cal\") ,0,0 )\n",
      "layout.addWidget(QLabel(\"Cal\") ,0,0 )\n",
      "layout.addWidget(QLabel(\"Cal\") ,0,0 )\n"
     ]
    }
   ],
   "source": [
    "for i in range(40):\n",
    "    print('layout.addWidget(QLabel(\"Cal\") ,0,0 )')"
   ]
  }
 ],
 "metadata": {
  "kernelspec": {
   "display_name": "Python 3",
   "language": "python",
   "name": "python3"
  },
  "language_info": {
   "codemirror_mode": {
    "name": "ipython",
    "version": 3
   },
   "file_extension": ".py",
   "mimetype": "text/x-python",
   "name": "python",
   "nbconvert_exporter": "python",
   "pygments_lexer": "ipython3",
   "version": "3.10.1"
  },
  "orig_nbformat": 4
 },
 "nbformat": 4,
 "nbformat_minor": 2
}
